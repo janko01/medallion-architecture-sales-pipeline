{
 "cells": [
  {
   "cell_type": "markdown",
   "metadata": {
    "application/vnd.databricks.v1+cell": {
     "cellMetadata": {},
     "inputWidgets": {},
     "nuid": "229fb386-1301-4c85-ab93-15988da2c9d3",
     "showTitle": false,
     "tableResultSettingsMap": {},
     "title": ""
    }
   },
   "source": [
    "### In this Notebook, I have done the following:\n",
    "1. Inserting local CSV files (*excel sheets that represent tables*) into databricks DBFS\n",
    "2. Checking the inferred schema and making sure that everything makes sense and is correct\n",
    "3. Writing this CSV file into delta format\n",
    "4. Making sure that I put every CSV file into separate subfolder on the delta (each dataset in separate subfolder). These subfolders act as a storage locations for Delta tables. Each Delta table needs its own directory in DBFS, because delta tables store multiple versions of data ; and each table has its own metadata\n",
    "5. Creating a **bronze schema** (CREATE SCHEMA command). Schema is a logical container that holds tables and views. \n",
    "6. Creating tables with the **USING DELTA** command inside the schema\n",
    "7. Added a load_date column to table Orders\n",
    "\n",
    "### Key concept:\n",
    "I am storing physical data in DBFS (Databricks File System), and also I have a schema (database) which helps in organizing the tables logically. In order to use DBFS (File Storage) I need to use spark commands. But, with Metastore(Schemas & Tables) I organize tables logically for SQL queries"
   ]
  },
  {
   "cell_type": "markdown",
   "metadata": {
    "application/vnd.databricks.v1+cell": {
     "cellMetadata": {
      "byteLimit": 2048000,
      "rowLimit": 10000
     },
     "inputWidgets": {},
     "nuid": "bfefe21a-6fd6-4a15-b4bf-04e2eb512014",
     "showTitle": false,
     "tableResultSettingsMap": {},
     "title": ""
    }
   },
   "source": [
    "File uploaded to /FileStore/tables/ArticleCategories.csv\n",
    "File uploaded to /FileStore/tables/Customers.csv\n",
    "File uploaded to /FileStore/tables/Divisions.csv\n",
    "File uploaded to /FileStore/tables/OrderDetails.csv\n",
    "File uploaded to /FileStore/tables/Orders.csv\n",
    "File uploaded to /FileStore/tables/Products.csv\n",
    "File uploaded to /FileStore/tables/Shippers.csv\n",
    "File uploaded to /FileStore/tables/Shipments.csv"
   ]
  },
  {
   "cell_type": "code",
   "execution_count": 0,
   "metadata": {
    "application/vnd.databricks.v1+cell": {
     "cellMetadata": {
      "byteLimit": 2048000,
      "rowLimit": 10000
     },
     "inputWidgets": {},
     "nuid": "b95141db-2602-47db-938d-75ac613bd1d6",
     "showTitle": false,
     "tableResultSettingsMap": {},
     "title": ""
    }
   },
   "outputs": [
    {
     "output_type": "display_data",
     "data": {
      "text/html": [
       "<style scoped>\n",
       "  .table-result-container {\n",
       "    max-height: 300px;\n",
       "    overflow: auto;\n",
       "  }\n",
       "  table, th, td {\n",
       "    border: 1px solid black;\n",
       "    border-collapse: collapse;\n",
       "  }\n",
       "  th, td {\n",
       "    padding: 5px;\n",
       "  }\n",
       "  th {\n",
       "    text-align: left;\n",
       "  }\n",
       "</style><div class='table-result-container'><table class='table-result'><thead style='background-color: white'><tr><th>CategoryID</th><th>CategoryName</th><th>Description</th></tr></thead><tbody><tr><td>5</td><td>Women's Footwear</td><td>Ladies Shoes</td></tr><tr><td>7</td><td>Children's Clothes</td><td>3-15 Years</td></tr><tr><td>2</td><td>Women's Clothes</td><td>Fashion for Women</td></tr><tr><td>4</td><td>Swimwear</td><td>Beach clothing</td></tr><tr><td>6</td><td>Men's Footwear</td><td>Men Shoes</td></tr><tr><td>1</td><td>Men's Clothes</td><td>Fashion for Men</td></tr><tr><td>8</td><td>Baby Clothes</td><td>0-3 Years</td></tr><tr><td>3</td><td>Sportswear</td><td>Sports clothing</td></tr></tbody></table></div>"
      ]
     },
     "metadata": {
      "application/vnd.databricks.v1+output": {
       "addedWidgets": {},
       "aggData": [],
       "aggError": "",
       "aggOverflow": false,
       "aggSchema": [],
       "aggSeriesLimitReached": false,
       "aggType": "",
       "arguments": {},
       "columnCustomDisplayInfos": {},
       "data": [
        [
         5,
         "Women's Footwear",
         "Ladies Shoes"
        ],
        [
         7,
         "Children's Clothes",
         "3-15 Years"
        ],
        [
         2,
         "Women's Clothes",
         "Fashion for Women"
        ],
        [
         4,
         "Swimwear",
         "Beach clothing"
        ],
        [
         6,
         "Men's Footwear",
         "Men Shoes"
        ],
        [
         1,
         "Men's Clothes",
         "Fashion for Men"
        ],
        [
         8,
         "Baby Clothes",
         "0-3 Years"
        ],
        [
         3,
         "Sportswear",
         "Sports clothing"
        ]
       ],
       "datasetInfos": [],
       "dbfsResultPath": null,
       "isJsonSchema": true,
       "metadata": {},
       "overflow": false,
       "plotOptions": {
        "customPlotOptions": {},
        "displayType": "table",
        "pivotAggregation": null,
        "pivotColumns": null,
        "xColumns": null,
        "yColumns": null
       },
       "removedWidgets": [],
       "schema": [
        {
         "metadata": "{}",
         "name": "CategoryID",
         "type": "\"integer\""
        },
        {
         "metadata": "{}",
         "name": "CategoryName",
         "type": "\"string\""
        },
        {
         "metadata": "{}",
         "name": "Description",
         "type": "\"string\""
        }
       ],
       "type": "table"
      }
     },
     "output_type": "display_data"
    }
   ],
   "source": [
    "# Displaying my CSV files with help of spark\n",
    "file_path = \"/FileStore/tables/ArticleCategories.csv\"\n",
    "df = spark.read.format(\"csv\").option(\"header\",\"true\").option(\"inferSchema\",\"true\").load(file_path)\n",
    "\n",
    "df.dtypes\n",
    "\n",
    "display(df)\n"
   ]
  },
  {
   "cell_type": "code",
   "execution_count": 0,
   "metadata": {
    "application/vnd.databricks.v1+cell": {
     "cellMetadata": {
      "byteLimit": 2048000,
      "rowLimit": 10000
     },
     "inputWidgets": {},
     "nuid": "1a7eeb6f-16cf-41c4-b517-1ef5a1c9f8ca",
     "showTitle": false,
     "tableResultSettingsMap": {},
     "title": ""
    }
   },
   "outputs": [
    {
     "output_type": "stream",
     "name": "stdout",
     "output_type": "stream",
     "text": [
      "root\n |-- CategoryID: integer (nullable = true)\n |-- CategoryName: string (nullable = true)\n |-- Description: string (nullable = true)\n\n"
     ]
    }
   ],
   "source": [
    "# Now checking how was schema inferred (what are the datatypes)\n",
    "df.printSchema()"
   ]
  },
  {
   "cell_type": "code",
   "execution_count": 0,
   "metadata": {
    "application/vnd.databricks.v1+cell": {
     "cellMetadata": {
      "byteLimit": 2048000,
      "rowLimit": 10000
     },
     "inputWidgets": {},
     "nuid": "96aed646-dbdd-493f-a5e8-7d7f1d198542",
     "showTitle": false,
     "tableResultSettingsMap": {},
     "title": ""
    }
   },
   "outputs": [],
   "source": [
    "# \n",
    "bronze_layer_path = \"dbfs:/FileStore/MedallionArchitecture/bronze/ArticleCategories\"\n",
    "df.write.format(\"delta\").mode(\"overwrite\").save(bronze_layer_path)"
   ]
  },
  {
   "cell_type": "code",
   "execution_count": 0,
   "metadata": {
    "application/vnd.databricks.v1+cell": {
     "cellMetadata": {
      "byteLimit": 2048000,
      "implicitDf": true,
      "rowLimit": 10000
     },
     "inputWidgets": {},
     "nuid": "3677125b-2d81-4c99-930e-0aed00ecb7ae",
     "showTitle": false,
     "tableResultSettingsMap": {},
     "title": ""
    }
   },
   "outputs": [
    {
     "output_type": "display_data",
     "data": {
      "text/html": [
       "<style scoped>\n",
       "  .table-result-container {\n",
       "    max-height: 300px;\n",
       "    overflow: auto;\n",
       "  }\n",
       "  table, th, td {\n",
       "    border: 1px solid black;\n",
       "    border-collapse: collapse;\n",
       "  }\n",
       "  th, td {\n",
       "    padding: 5px;\n",
       "  }\n",
       "  th {\n",
       "    text-align: left;\n",
       "  }\n",
       "</style><div class='table-result-container'><table class='table-result'><thead style='background-color: white'><tr></tr></thead><tbody></tbody></table></div>"
      ]
     },
     "metadata": {
      "application/vnd.databricks.v1+output": {
       "addedWidgets": {},
       "aggData": [],
       "aggError": "",
       "aggOverflow": false,
       "aggSchema": [],
       "aggSeriesLimitReached": false,
       "aggType": "",
       "arguments": {},
       "columnCustomDisplayInfos": {},
       "data": [],
       "datasetInfos": [],
       "dbfsResultPath": null,
       "isJsonSchema": true,
       "metadata": {},
       "overflow": false,
       "plotOptions": {
        "customPlotOptions": {},
        "displayType": "table",
        "pivotAggregation": null,
        "pivotColumns": null,
        "xColumns": null,
        "yColumns": null
       },
       "removedWidgets": [],
       "schema": [],
       "type": "table"
      }
     },
     "output_type": "display_data"
    }
   ],
   "source": [
    "%sql\n",
    "CREATE SCHEMA IF NOT EXISTS bronze;"
   ]
  },
  {
   "cell_type": "code",
   "execution_count": 0,
   "metadata": {
    "application/vnd.databricks.v1+cell": {
     "cellMetadata": {
      "byteLimit": 2048000,
      "implicitDf": true,
      "rowLimit": 10000
     },
     "inputWidgets": {},
     "nuid": "e2e0dc28-43d2-4d91-8dc2-9f1d27e31ca1",
     "showTitle": false,
     "tableResultSettingsMap": {},
     "title": ""
    }
   },
   "outputs": [
    {
     "output_type": "display_data",
     "data": {
      "text/html": [
       "<style scoped>\n",
       "  .table-result-container {\n",
       "    max-height: 300px;\n",
       "    overflow: auto;\n",
       "  }\n",
       "  table, th, td {\n",
       "    border: 1px solid black;\n",
       "    border-collapse: collapse;\n",
       "  }\n",
       "  th, td {\n",
       "    padding: 5px;\n",
       "  }\n",
       "  th {\n",
       "    text-align: left;\n",
       "  }\n",
       "</style><div class='table-result-container'><table class='table-result'><thead style='background-color: white'><tr></tr></thead><tbody></tbody></table></div>"
      ]
     },
     "metadata": {
      "application/vnd.databricks.v1+output": {
       "addedWidgets": {},
       "aggData": [],
       "aggError": "",
       "aggOverflow": false,
       "aggSchema": [],
       "aggSeriesLimitReached": false,
       "aggType": "",
       "arguments": {},
       "columnCustomDisplayInfos": {},
       "data": [],
       "datasetInfos": [],
       "dbfsResultPath": null,
       "isJsonSchema": true,
       "metadata": {},
       "overflow": false,
       "plotOptions": {
        "customPlotOptions": {},
        "displayType": "table",
        "pivotAggregation": null,
        "pivotColumns": null,
        "xColumns": null,
        "yColumns": null
       },
       "removedWidgets": [],
       "schema": [],
       "type": "table"
      }
     },
     "output_type": "display_data"
    }
   ],
   "source": [
    "%sql\n",
    "CREATE TABLE bronze.ArticleCategories\n",
    "USING DELTA\n",
    "LOCATION \"dbfs:/FileStore/MedallionArchitecture/bronze/ArticleCategories\""
   ]
  },
  {
   "cell_type": "code",
   "execution_count": 0,
   "metadata": {
    "application/vnd.databricks.v1+cell": {
     "cellMetadata": {
      "byteLimit": 2048000,
      "implicitDf": true,
      "rowLimit": 10000
     },
     "inputWidgets": {},
     "nuid": "2f6c9438-9406-4d63-a02e-3e6b8717dd0e",
     "showTitle": false,
     "tableResultSettingsMap": {},
     "title": ""
    }
   },
   "outputs": [
    {
     "output_type": "display_data",
     "data": {
      "text/html": [
       "<style scoped>\n",
       "  .table-result-container {\n",
       "    max-height: 300px;\n",
       "    overflow: auto;\n",
       "  }\n",
       "  table, th, td {\n",
       "    border: 1px solid black;\n",
       "    border-collapse: collapse;\n",
       "  }\n",
       "  th, td {\n",
       "    padding: 5px;\n",
       "  }\n",
       "  th {\n",
       "    text-align: left;\n",
       "  }\n",
       "</style><div class='table-result-container'><table class='table-result'><thead style='background-color: white'><tr><th>CategoryID</th><th>CategoryName</th><th>Description</th></tr></thead><tbody><tr><td>1</td><td>Men's Clothes</td><td>Fashion for Men</td></tr><tr><td>2</td><td>Women's Clothes</td><td>Fashion for Women</td></tr><tr><td>3</td><td>Sportswear</td><td>Sports clothing</td></tr><tr><td>4</td><td>Swimwear</td><td>Beach clothing</td></tr><tr><td>5</td><td>Women's Footwear</td><td>Ladies Shoes</td></tr><tr><td>6</td><td>Men's Footwear</td><td>Men Shoes</td></tr><tr><td>7</td><td>Children's Clothes</td><td>3-15 Years</td></tr><tr><td>8</td><td>Baby Clothes</td><td>0-3 Years</td></tr></tbody></table></div>"
      ]
     },
     "metadata": {
      "application/vnd.databricks.v1+output": {
       "addedWidgets": {},
       "aggData": [],
       "aggError": "",
       "aggOverflow": false,
       "aggSchema": [],
       "aggSeriesLimitReached": false,
       "aggType": "",
       "arguments": {},
       "columnCustomDisplayInfos": {},
       "data": [
        [
         1,
         "Men's Clothes",
         "Fashion for Men"
        ],
        [
         2,
         "Women's Clothes",
         "Fashion for Women"
        ],
        [
         3,
         "Sportswear",
         "Sports clothing"
        ],
        [
         4,
         "Swimwear",
         "Beach clothing"
        ],
        [
         5,
         "Women's Footwear",
         "Ladies Shoes"
        ],
        [
         6,
         "Men's Footwear",
         "Men Shoes"
        ],
        [
         7,
         "Children's Clothes",
         "3-15 Years"
        ],
        [
         8,
         "Baby Clothes",
         "0-3 Years"
        ]
       ],
       "datasetInfos": [],
       "dbfsResultPath": null,
       "isJsonSchema": true,
       "metadata": {},
       "overflow": false,
       "plotOptions": {
        "customPlotOptions": {},
        "displayType": "table",
        "pivotAggregation": null,
        "pivotColumns": null,
        "xColumns": null,
        "yColumns": null
       },
       "removedWidgets": [],
       "schema": [
        {
         "metadata": "{}",
         "name": "CategoryID",
         "type": "\"integer\""
        },
        {
         "metadata": "{}",
         "name": "CategoryName",
         "type": "\"string\""
        },
        {
         "metadata": "{}",
         "name": "Description",
         "type": "\"string\""
        }
       ],
       "type": "table"
      }
     },
     "output_type": "display_data"
    }
   ],
   "source": [
    "%sql\n",
    "SELECT *\n",
    "FROM bronze.ArticleCategories\n",
    "ORDER BY CategoryID ASC"
   ]
  },
  {
   "cell_type": "code",
   "execution_count": 0,
   "metadata": {
    "application/vnd.databricks.v1+cell": {
     "cellMetadata": {
      "byteLimit": 2048000,
      "implicitDf": true,
      "rowLimit": 10000
     },
     "inputWidgets": {},
     "nuid": "0dffe53f-1e87-494a-83ff-bc9a1b227c78",
     "showTitle": false,
     "tableResultSettingsMap": {},
     "title": ""
    }
   },
   "outputs": [
    {
     "output_type": "display_data",
     "data": {
      "text/html": [
       "<style scoped>\n",
       "  .table-result-container {\n",
       "    max-height: 300px;\n",
       "    overflow: auto;\n",
       "  }\n",
       "  table, th, td {\n",
       "    border: 1px solid black;\n",
       "    border-collapse: collapse;\n",
       "  }\n",
       "  th, td {\n",
       "    padding: 5px;\n",
       "  }\n",
       "  th {\n",
       "    text-align: left;\n",
       "  }\n",
       "</style><div class='table-result-container'><table class='table-result'><thead style='background-color: white'><tr></tr></thead><tbody></tbody></table></div>"
      ]
     },
     "metadata": {
      "application/vnd.databricks.v1+output": {
       "addedWidgets": {},
       "aggData": [],
       "aggError": "",
       "aggOverflow": false,
       "aggSchema": [],
       "aggSeriesLimitReached": false,
       "aggType": "",
       "arguments": {},
       "columnCustomDisplayInfos": {},
       "data": [],
       "datasetInfos": [],
       "dbfsResultPath": null,
       "isJsonSchema": true,
       "metadata": {},
       "overflow": false,
       "plotOptions": {
        "customPlotOptions": {},
        "displayType": "table",
        "pivotAggregation": null,
        "pivotColumns": null,
        "xColumns": null,
        "yColumns": null
       },
       "removedWidgets": [],
       "schema": [],
       "type": "table"
      }
     },
     "output_type": "display_data"
    }
   ],
   "source": [
    "%sql\n",
    "-- I am adding a column load_date which represent date and time when the tables was added\n",
    "ALTER TABLE bronze.Orders ADD COLUMN load_date TIMESTAMP;"
   ]
  },
  {
   "cell_type": "code",
   "execution_count": 0,
   "metadata": {
    "application/vnd.databricks.v1+cell": {
     "cellMetadata": {
      "byteLimit": 2048000,
      "implicitDf": true,
      "rowLimit": 10000
     },
     "inputWidgets": {},
     "nuid": "c9778943-d29b-4bbd-b44c-cc1bd0d971b2",
     "showTitle": false,
     "tableResultSettingsMap": {},
     "title": ""
    }
   },
   "outputs": [
    {
     "output_type": "display_data",
     "data": {
      "text/html": [
       "<style scoped>\n",
       "  .table-result-container {\n",
       "    max-height: 300px;\n",
       "    overflow: auto;\n",
       "  }\n",
       "  table, th, td {\n",
       "    border: 1px solid black;\n",
       "    border-collapse: collapse;\n",
       "  }\n",
       "  th, td {\n",
       "    padding: 5px;\n",
       "  }\n",
       "  th {\n",
       "    text-align: left;\n",
       "  }\n",
       "</style><div class='table-result-container'><table class='table-result'><thead style='background-color: white'><tr><th>num_affected_rows</th></tr></thead><tbody><tr><td>6571</td></tr></tbody></table></div>"
      ]
     },
     "metadata": {
      "application/vnd.databricks.v1+output": {
       "addedWidgets": {},
       "aggData": [],
       "aggError": "",
       "aggOverflow": false,
       "aggSchema": [],
       "aggSeriesLimitReached": false,
       "aggType": "",
       "arguments": {},
       "columnCustomDisplayInfos": {},
       "data": [
        [
         6571
        ]
       ],
       "datasetInfos": [],
       "dbfsResultPath": null,
       "isJsonSchema": true,
       "metadata": {},
       "overflow": false,
       "plotOptions": {
        "customPlotOptions": {},
        "displayType": "table",
        "pivotAggregation": null,
        "pivotColumns": null,
        "xColumns": null,
        "yColumns": null
       },
       "removedWidgets": [],
       "schema": [
        {
         "metadata": "{}",
         "name": "num_affected_rows",
         "type": "\"long\""
        }
       ],
       "type": "table"
      }
     },
     "output_type": "display_data"
    }
   ],
   "source": [
    "%sql\n",
    "-- Setting the value to current_timestamp()\n",
    "UPDATE bronze.Orders\n",
    "SET load_date = current_timestamp();"
   ]
  },
  {
   "cell_type": "code",
   "execution_count": 0,
   "metadata": {
    "application/vnd.databricks.v1+cell": {
     "cellMetadata": {
      "byteLimit": 2048000,
      "implicitDf": true,
      "rowLimit": 10000
     },
     "inputWidgets": {},
     "nuid": "d6d84f0a-8377-45a1-86de-df51b7ccb737",
     "showTitle": false,
     "tableResultSettingsMap": {},
     "title": ""
    }
   },
   "outputs": [],
   "source": [
    "# Now I am saving the updated table back to DBFS\n",
    "df = spark.table(\"bronze.Orders\")\n",
    "\n",
    "# Write it back to DBFS, ensuring it's stored persistently\n",
    "df.write.format(\"delta\").mode(\"overwrite\").option(\"overwriteSchema\", \"true\").save(\"dbfs:/FileStore/MedallionArchitecture/bronze/Orders\")"
   ]
  },
  {
   "cell_type": "code",
   "execution_count": 0,
   "metadata": {
    "application/vnd.databricks.v1+cell": {
     "cellMetadata": {
      "byteLimit": 2048000,
      "implicitDf": true,
      "rowLimit": 10000
     },
     "inputWidgets": {},
     "nuid": "ddcaf597-c2e7-40ec-8fdf-d49e57acd8b2",
     "showTitle": false,
     "tableResultSettingsMap": {},
     "title": ""
    }
   },
   "outputs": [
    {
     "output_type": "display_data",
     "data": {
      "text/html": [
       "<style scoped>\n",
       "  .table-result-container {\n",
       "    max-height: 300px;\n",
       "    overflow: auto;\n",
       "  }\n",
       "  table, th, td {\n",
       "    border: 1px solid black;\n",
       "    border-collapse: collapse;\n",
       "  }\n",
       "  th, td {\n",
       "    padding: 5px;\n",
       "  }\n",
       "  th {\n",
       "    text-align: left;\n",
       "  }\n",
       "</style><div class='table-result-container'><table class='table-result'><thead style='background-color: white'><tr><th>CustomerID</th><th>CompanyName</th><th>ContactName</th><th>City</th><th>Country</th><th>DivisionID</th><th>Address</th><th>Fax</th><th>Phone</th><th>PostalCode</th><th>StateProvince</th></tr></thead><tbody><tr><td>62</td><td>Roba di Piel</td><td>Jorge Alemaio</td><td>São Paulo</td><td>Brazil</td><td>4</td><td>Alameda dos Canàrios, 891</td><td>null</td><td>(11) 555-1189</td><td>05487-020</td><td>null</td></tr><tr><td>35</td><td>El Zapato Rojo</td><td>Nicolas Balines</td><td>San Cristóbal</td><td>Venezuela</td><td>4</td><td>Carrera 22 con Ave. Carlos Soublette #8-35</td><td>(5) 555-1948</td><td>(5) 555-1340</td><td>5022</td><td>null</td></tr><tr><td>6</td><td>Man Kleider</td><td>Herman Hinschler</td><td>Mannheim</td><td>Germany</td><td>1</td><td>Forsterstr. 57</td><td>0621-08924</td><td>0621-08460</td><td>68306</td><td>null</td></tr><tr><td>9</td><td>La Legion Mercenaire</td><td>Bernard de Gaule</td><td>Marseille</td><td>France</td><td>1</td><td>12, rue des Bouchers</td><td>91.24.45.41</td><td>91.24.45.40</td><td>13008</td><td>null</td></tr><tr><td>13</td><td>Los Sombreros Gigantes</td><td>Speedy Gonzales</td><td>México D.F.</td><td>Mexico</td><td>2</td><td>El Barrio Chino 12</td><td>(5) 555-7293</td><td>(5) 555-3392</td><td>5021</td><td>null</td></tr><tr><td>16</td><td>The sharped dressed man</td><td>Ian Wright</td><td>London</td><td>UK</td><td>1</td><td>Berkeley Gardens\n",
       "</td><td>null</td><td>null</td><td>null</td><td>null</td></tr><tr><td>73</td><td>Rode & Vite</td><td>Preben Elkjaer</td><td>København</td><td>Denmark</td><td>3</td><td>Vinbæltet 34</td><td>31133557</td><td>31123456</td><td>1734</td><td>null</td></tr><tr><td>52</td><td>Kohl Industries AG</td><td>Helmuth Klein</td><td>Leipzig</td><td>Germany</td><td>1</td><td>Heerstr. 22</td><td>null</td><td>0342-023176</td><td>4179</td><td>null</td></tr><tr><td>14</td><td>Das Alpen Shoe</td><td>Alfred Neumann</td><td>Bern</td><td>Switzerland</td><td>1</td><td>Hauptstr. 29</td><td>null</td><td>0452-076545</td><td>3012</td><td>null</td></tr><tr><td>59</td><td>Extrawagens</td><td>Herbert Bernstorf</td><td>Salzburg</td><td>Austria</td><td>1</td><td>Geislweg 14</td><td>6562-9723</td><td>6562-9722</td><td>5020</td><td>null</td></tr><tr><td>67</td><td>Da Bikini Expertu</td><td>Thomá Lindao</td><td>Rio de Janeiro</td><td>Brazil</td><td>4</td><td>Av. Copacabana, 267</td><td>null</td><td>(21) 555-3412</td><td>02389-890</td><td>null</td></tr><tr><td>84</td><td>Art et Fashion</td><td>Pierre Robert</td><td>Lyon</td><td>France</td><td>1</td><td>2, rue du Commerce</td><td>78.32.54.87</td><td>78.32.54.86</td><td>69004</td><td>null</td></tr><tr><td>50</td><td>De la Vita</td><td>Marco Van Deum</td><td>Bruxelles</td><td>Belgium</td><td>1</td><td>Rue Joseph-Bens 532</td><td>(02) 201 24 68</td><td>(02) 201 24 67</td><td>B-1180</td><td>null</td></tr><tr><td>58</td><td>La Moda Pasada</td><td>Francisca Font Barceló</td><td>México D.F.</td><td>Mexico</td><td>2</td><td>Calle Dr. Jorge Cash 321</td><td>(5) 545-3745</td><td>(5) 552-3745</td><td>5033</td><td>null</td></tr><tr><td>127</td><td>Stephanies</td><td>Staffan Blond</td><td>Stockholm</td><td>Sweden</td><td>3</td><td>Gatauppochner. 1</td><td>(8) 11 22 33</td><td>(8) 10 20 30</td><td>11111</td><td>null</td></tr><tr><td>91</td><td>Slotzy Danz</td><td>Boniekk Wallessa</td><td>Warszawa</td><td>Poland</td><td>1</td><td>ul. Filtrowa 68</td><td>(26) 642-7012</td><td>(26) 642-7012</td><td>01-012</td><td>null</td></tr><tr><td>41</td><td>Elle Fashion & Design</td><td>Louise Davu</td><td>Toulouse</td><td>France</td><td>1</td><td>1 rue Alsace-Lorraine</td><td>61.77.61.11</td><td>61.77.61.10</td><td>31000</td><td>null</td></tr><tr><td>57</td><td>Jazz Style Fashion& Art</td><td>Dizzi Gillespi</td><td>Paris</td><td>France</td><td>1</td><td>265, boulevard Charonne</td><td>(1) 42.34.22.77</td><td>(1) 42.34.22.66</td><td>75012</td><td>null</td></tr><tr><td>21</td><td>Cloe do Pau</td><td>Romario do Sauza</td><td>São Paulo</td><td>Brazil</td><td>4</td><td>Rua Orós, 92</td><td>null</td><td>(11) 555-9857</td><td>05442-030</td><td>null</td></tr><tr><td>71</td><td>Sunny Ski Store</td><td>Perry Farell</td><td>Boise</td><td>USA</td><td>2</td><td>187 Suffolk Ln.</td><td>null</td><td>(208) 555-8097</td><td>83720</td><td>ID</td></tr></tbody></table></div>"
      ]
     },
     "metadata": {
      "application/vnd.databricks.v1+output": {
       "addedWidgets": {},
       "aggData": [],
       "aggError": "",
       "aggOverflow": false,
       "aggSchema": [],
       "aggSeriesLimitReached": false,
       "aggType": "",
       "arguments": {},
       "columnCustomDisplayInfos": {},
       "data": [
        [
         62,
         "Roba di Piel",
         "Jorge Alemaio",
         "São Paulo",
         "Brazil",
         4,
         "Alameda dos Canàrios, 891",
         null,
         "(11) 555-1189",
         "05487-020",
         null
        ],
        [
         35,
         "El Zapato Rojo",
         "Nicolas Balines",
         "San Cristóbal",
         "Venezuela",
         4,
         "Carrera 22 con Ave. Carlos Soublette #8-35",
         "(5) 555-1948",
         "(5) 555-1340",
         "5022",
         null
        ],
        [
         6,
         "Man Kleider",
         "Herman Hinschler",
         "Mannheim",
         "Germany",
         1,
         "Forsterstr. 57",
         "0621-08924",
         "0621-08460",
         "68306",
         null
        ],
        [
         9,
         "La Legion Mercenaire",
         "Bernard de Gaule",
         "Marseille",
         "France",
         1,
         "12, rue des Bouchers",
         "91.24.45.41",
         "91.24.45.40",
         "13008",
         null
        ],
        [
         13,
         "Los Sombreros Gigantes",
         "Speedy Gonzales",
         "México D.F.",
         "Mexico",
         2,
         "El Barrio Chino 12",
         "(5) 555-7293",
         "(5) 555-3392",
         "5021",
         null
        ],
        [
         16,
         "The sharped dressed man",
         "Ian Wright",
         "London",
         "UK",
         1,
         "Berkeley Gardens\n",
         null,
         null,
         null,
         null
        ],
        [
         73,
         "Rode & Vite",
         "Preben Elkjaer",
         "København",
         "Denmark",
         3,
         "Vinbæltet 34",
         "31133557",
         "31123456",
         "1734",
         null
        ],
        [
         52,
         "Kohl Industries AG",
         "Helmuth Klein",
         "Leipzig",
         "Germany",
         1,
         "Heerstr. 22",
         null,
         "0342-023176",
         "4179",
         null
        ],
        [
         14,
         "Das Alpen Shoe",
         "Alfred Neumann",
         "Bern",
         "Switzerland",
         1,
         "Hauptstr. 29",
         null,
         "0452-076545",
         "3012",
         null
        ],
        [
         59,
         "Extrawagens",
         "Herbert Bernstorf",
         "Salzburg",
         "Austria",
         1,
         "Geislweg 14",
         "6562-9723",
         "6562-9722",
         "5020",
         null
        ],
        [
         67,
         "Da Bikini Expertu",
         "Thomá Lindao",
         "Rio de Janeiro",
         "Brazil",
         4,
         "Av. Copacabana, 267",
         null,
         "(21) 555-3412",
         "02389-890",
         null
        ],
        [
         84,
         "Art et Fashion",
         "Pierre Robert",
         "Lyon",
         "France",
         1,
         "2, rue du Commerce",
         "78.32.54.87",
         "78.32.54.86",
         "69004",
         null
        ],
        [
         50,
         "De la Vita",
         "Marco Van Deum",
         "Bruxelles",
         "Belgium",
         1,
         "Rue Joseph-Bens 532",
         "(02) 201 24 68",
         "(02) 201 24 67",
         "B-1180",
         null
        ],
        [
         58,
         "La Moda Pasada",
         "Francisca Font Barceló",
         "México D.F.",
         "Mexico",
         2,
         "Calle Dr. Jorge Cash 321",
         "(5) 545-3745",
         "(5) 552-3745",
         "5033",
         null
        ],
        [
         127,
         "Stephanies",
         "Staffan Blond",
         "Stockholm",
         "Sweden",
         3,
         "Gatauppochner. 1",
         "(8) 11 22 33",
         "(8) 10 20 30",
         "11111",
         null
        ],
        [
         91,
         "Slotzy Danz",
         "Boniekk Wallessa",
         "Warszawa",
         "Poland",
         1,
         "ul. Filtrowa 68",
         "(26) 642-7012",
         "(26) 642-7012",
         "01-012",
         null
        ],
        [
         41,
         "Elle Fashion & Design",
         "Louise Davu",
         "Toulouse",
         "France",
         1,
         "1 rue Alsace-Lorraine",
         "61.77.61.11",
         "61.77.61.10",
         "31000",
         null
        ],
        [
         57,
         "Jazz Style Fashion& Art",
         "Dizzi Gillespi",
         "Paris",
         "France",
         1,
         "265, boulevard Charonne",
         "(1) 42.34.22.77",
         "(1) 42.34.22.66",
         "75012",
         null
        ],
        [
         21,
         "Cloe do Pau",
         "Romario do Sauza",
         "São Paulo",
         "Brazil",
         4,
         "Rua Orós, 92",
         null,
         "(11) 555-9857",
         "05442-030",
         null
        ],
        [
         71,
         "Sunny Ski Store",
         "Perry Farell",
         "Boise",
         "USA",
         2,
         "187 Suffolk Ln.",
         null,
         "(208) 555-8097",
         "83720",
         "ID"
        ]
       ],
       "datasetInfos": [],
       "dbfsResultPath": null,
       "isJsonSchema": true,
       "metadata": {},
       "overflow": false,
       "plotOptions": {
        "customPlotOptions": {},
        "displayType": "table",
        "pivotAggregation": null,
        "pivotColumns": null,
        "xColumns": null,
        "yColumns": null
       },
       "removedWidgets": [],
       "schema": [
        {
         "metadata": "{}",
         "name": "CustomerID",
         "type": "\"integer\""
        },
        {
         "metadata": "{}",
         "name": "CompanyName",
         "type": "\"string\""
        },
        {
         "metadata": "{}",
         "name": "ContactName",
         "type": "\"string\""
        },
        {
         "metadata": "{}",
         "name": "City",
         "type": "\"string\""
        },
        {
         "metadata": "{}",
         "name": "Country",
         "type": "\"string\""
        },
        {
         "metadata": "{}",
         "name": "DivisionID",
         "type": "\"integer\""
        },
        {
         "metadata": "{}",
         "name": "Address",
         "type": "\"string\""
        },
        {
         "metadata": "{}",
         "name": "Fax",
         "type": "\"string\""
        },
        {
         "metadata": "{}",
         "name": "Phone",
         "type": "\"string\""
        },
        {
         "metadata": "{}",
         "name": "PostalCode",
         "type": "\"string\""
        },
        {
         "metadata": "{}",
         "name": "StateProvince",
         "type": "\"string\""
        }
       ],
       "type": "table"
      }
     },
     "output_type": "display_data"
    }
   ],
   "source": [
    "%sql\n",
    "SELECT *\n",
    "FROM bronze.Customers\n",
    "LIMIT 20;"
   ]
  }
 ],
 "metadata": {
  "application/vnd.databricks.v1+notebook": {
   "computePreferences": null,
   "dashboards": [],
   "environmentMetadata": {
    "base_environment": "",
    "environment_version": "1"
   },
   "inputWidgetPreferences": null,
   "language": "python",
   "notebookMetadata": {
    "mostRecentlyExecutedCommandWithImplicitDF": {
     "commandId": 1059959949778451,
     "dataframes": [
      "_sqldf"
     ]
    },
    "pythonIndentUnit": 4
   },
   "notebookName": "Bronze Layer Step 1",
   "widgets": {}
  }
 },
 "nbformat": 4,
 "nbformat_minor": 0
}