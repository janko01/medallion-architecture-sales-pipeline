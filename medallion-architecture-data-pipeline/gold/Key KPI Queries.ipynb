{
 "cells": [
  {
   "cell_type": "markdown",
   "metadata": {
    "application/vnd.databricks.v1+cell": {
     "cellMetadata": {},
     "inputWidgets": {},
     "nuid": "ca5c97ff-3b86-4417-987f-488964b7646c",
     "showTitle": false,
     "tableResultSettingsMap": {},
     "title": ""
    }
   },
   "source": [
    "### 1. Year-Over-Year Sales Growth"
   ]
  },
  {
   "cell_type": "code",
   "execution_count": 0,
   "metadata": {
    "application/vnd.databricks.v1+cell": {
     "cellMetadata": {
      "byteLimit": 2048000,
      "implicitDf": true,
      "rowLimit": 10000
     },
     "inputWidgets": {},
     "nuid": "634cbf66-5d13-4cb1-8a09-44330dbf9183",
     "showTitle": false,
     "tableResultSettingsMap": {},
     "title": ""
    }
   },
   "outputs": [
    {
     "output_type": "display_data",
     "data": {
      "text/html": [
       "<style scoped>\n",
       "  .table-result-container {\n",
       "    max-height: 300px;\n",
       "    overflow: auto;\n",
       "  }\n",
       "  table, th, td {\n",
       "    border: 1px solid black;\n",
       "    border-collapse: collapse;\n",
       "  }\n",
       "  th, td {\n",
       "    padding: 5px;\n",
       "  }\n",
       "  th {\n",
       "    text-align: left;\n",
       "  }\n",
       "</style><div class='table-result-container'><table class='table-result'><thead style='background-color: white'><tr><th>SalesYear</th><th>TotalSales</th><th>PreviousYearSales</th><th>YoY_Growth_Percentage</th></tr></thead><tbody><tr><td>2007</td><td>296570.07999999955</td><td>null</td><td>null</td></tr><tr><td>2008</td><td>2713808.7399999877</td><td>296570.07999999955</td><td>815.06</td></tr><tr><td>2009</td><td>6695769.499999953</td><td>2713808.7399999877</td><td>146.73</td></tr><tr><td>2010</td><td>9876398.620000016</td><td>6695769.499999953</td><td>47.5</td></tr><tr><td>2011</td><td>6785723.719999957</td><td>9876398.620000016</td><td>-31.29</td></tr><tr><td>2012</td><td>962214.5399999957</td><td>6785723.719999957</td><td>-85.82</td></tr></tbody></table></div>"
      ]
     },
     "metadata": {
      "application/vnd.databricks.v1+output": {
       "addedWidgets": {},
       "aggData": [],
       "aggError": "",
       "aggOverflow": false,
       "aggSchema": [],
       "aggSeriesLimitReached": false,
       "aggType": "",
       "arguments": {},
       "columnCustomDisplayInfos": {},
       "data": [
        [
         2007,
         296570.07999999955,
         null,
         null
        ],
        [
         2008,
         2713808.7399999877,
         296570.07999999955,
         815.06
        ],
        [
         2009,
         6695769.499999953,
         2713808.7399999877,
         146.73
        ],
        [
         2010,
         9876398.620000016,
         6695769.499999953,
         47.5
        ],
        [
         2011,
         6785723.719999957,
         9876398.620000016,
         -31.29
        ],
        [
         2012,
         962214.5399999957,
         6785723.719999957,
         -85.82
        ]
       ],
       "datasetInfos": [],
       "dbfsResultPath": null,
       "isJsonSchema": true,
       "metadata": {},
       "overflow": false,
       "plotOptions": {
        "customPlotOptions": {},
        "displayType": "table",
        "pivotAggregation": null,
        "pivotColumns": null,
        "xColumns": null,
        "yColumns": null
       },
       "removedWidgets": [],
       "schema": [
        {
         "metadata": "{}",
         "name": "SalesYear",
         "type": "\"integer\""
        },
        {
         "metadata": "{}",
         "name": "TotalSales",
         "type": "\"double\""
        },
        {
         "metadata": "{}",
         "name": "PreviousYearSales",
         "type": "\"double\""
        },
        {
         "metadata": "{}",
         "name": "YoY_Growth_Percentage",
         "type": "\"double\""
        }
       ],
       "type": "table"
      }
     },
     "output_type": "display_data"
    }
   ],
   "source": [
    "%sql\n",
    "WITH SalesByYear AS (\n",
    "    SELECT \n",
    "        d.Year AS SalesYear, \n",
    "        SUM(f.TotalPrice) AS TotalSales\n",
    "    FROM gold.factfinaltable f\n",
    "    JOIN gold.dim_orderdate d ON f.OrderDateKey = d.DateKey\n",
    "    GROUP BY d.Year\n",
    ")\n",
    "SELECT \n",
    "    SalesYear, \n",
    "    TotalSales, \n",
    "    LAG(TotalSales) OVER (ORDER BY SalesYear) AS PreviousYearSales, \n",
    "    ROUND(\n",
    "        (TotalSales - LAG(TotalSales) OVER (ORDER BY SalesYear)) / \n",
    "        LAG(TotalSales) OVER (ORDER BY SalesYear) * 100, 2\n",
    "    ) AS YoY_Growth_Percentage\n",
    "FROM SalesByYear\n",
    "ORDER BY SalesYear;\n"
   ]
  },
  {
   "cell_type": "markdown",
   "metadata": {
    "application/vnd.databricks.v1+cell": {
     "cellMetadata": {},
     "inputWidgets": {},
     "nuid": "3e8cd451-a850-48cf-9c73-08e4d714536a",
     "showTitle": false,
     "tableResultSettingsMap": {},
     "title": ""
    }
   },
   "source": [
    "### 2. Sales Margin Analysis"
   ]
  },
  {
   "cell_type": "code",
   "execution_count": 0,
   "metadata": {
    "application/vnd.databricks.v1+cell": {
     "cellMetadata": {
      "byteLimit": 2048000,
      "implicitDf": true,
      "rowLimit": 10000
     },
     "inputWidgets": {},
     "nuid": "4aeb6f65-8990-46f9-9e55-ab7cb410c781",
     "showTitle": false,
     "tableResultSettingsMap": {},
     "title": ""
    }
   },
   "outputs": [
    {
     "output_type": "display_data",
     "data": {
      "text/html": [
       "<style scoped>\n",
       "  .table-result-container {\n",
       "    max-height: 300px;\n",
       "    overflow: auto;\n",
       "  }\n",
       "  table, th, td {\n",
       "    border: 1px solid black;\n",
       "    border-collapse: collapse;\n",
       "  }\n",
       "  th, td {\n",
       "    padding: 5px;\n",
       "  }\n",
       "  th {\n",
       "    text-align: left;\n",
       "  }\n",
       "</style><div class='table-result-container'><table class='table-result'><thead style='background-color: white'><tr><th>Year</th><th>Month</th><th>TotalSales</th><th>TotalProfit</th><th>Margin_Percentage</th></tr></thead><tbody><tr><td>2007</td><td>4</td><td>8674.75</td><td>58.15000000000001</td><td>0.67</td></tr><tr><td>2007</td><td>5</td><td>4185.209999999999</td><td>60.1</td><td>1.44</td></tr><tr><td>2007</td><td>6</td><td>7443.290000000002</td><td>47.730000000000004</td><td>0.64</td></tr><tr><td>2007</td><td>7</td><td>13429.189999999997</td><td>138.0399999999999</td><td>1.03</td></tr><tr><td>2007</td><td>8</td><td>40404.01000000004</td><td>332.19000000000005</td><td>0.82</td></tr><tr><td>2007</td><td>9</td><td>1644.2</td><td>10.5</td><td>0.64</td></tr><tr><td>2007</td><td>10</td><td>20556.789999999997</td><td>180.73000000000005</td><td>0.88</td></tr><tr><td>2007</td><td>11</td><td>89005.39</td><td>617.0499999999993</td><td>0.69</td></tr><tr><td>2007</td><td>12</td><td>111227.24999999984</td><td>866.5699999999995</td><td>0.78</td></tr><tr><td>2008</td><td>1</td><td>110931.95999999999</td><td>859.6300000000002</td><td>0.77</td></tr><tr><td>2008</td><td>2</td><td>153913.62000000002</td><td>1162.439999999999</td><td>0.76</td></tr><tr><td>2008</td><td>3</td><td>196878.14</td><td>1299.7599999999982</td><td>0.66</td></tr><tr><td>2008</td><td>4</td><td>271793.4800000004</td><td>1776.1099999999972</td><td>0.65</td></tr><tr><td>2008</td><td>5</td><td>264215.24999999936</td><td>1876.7399999999925</td><td>0.71</td></tr><tr><td>2008</td><td>6</td><td>215410.61999999968</td><td>1646.6999999999996</td><td>0.76</td></tr><tr><td>2008</td><td>7</td><td>190460.98000000004</td><td>1292.7699999999995</td><td>0.68</td></tr><tr><td>2008</td><td>8</td><td>178531.0799999999</td><td>1138.1800000000003</td><td>0.64</td></tr><tr><td>2008</td><td>9</td><td>279742.8200000004</td><td>1741.3099999999968</td><td>0.62</td></tr><tr><td>2008</td><td>10</td><td>163653.2500000002</td><td>1156.1399999999992</td><td>0.71</td></tr><tr><td>2008</td><td>11</td><td>216549.22000000026</td><td>1616.2300000000014</td><td>0.75</td></tr><tr><td>2008</td><td>12</td><td>471728.32000000024</td><td>2848.4000000000015</td><td>0.6</td></tr><tr><td>2009</td><td>1</td><td>346354.38999999984</td><td>2221.269999999998</td><td>0.64</td></tr><tr><td>2009</td><td>2</td><td>263586.0999999998</td><td>1925.6399999999996</td><td>0.73</td></tr><tr><td>2009</td><td>3</td><td>615274.5000000007</td><td>3212.950000000001</td><td>0.52</td></tr><tr><td>2009</td><td>4</td><td>669083.0799999996</td><td>3917.3299999999967</td><td>0.59</td></tr><tr><td>2009</td><td>5</td><td>438331.2499999999</td><td>3018.319999999994</td><td>0.69</td></tr><tr><td>2009</td><td>6</td><td>612045.7200000003</td><td>4357.609999999996</td><td>0.71</td></tr><tr><td>2009</td><td>7</td><td>610036.6799999997</td><td>3694.5399999999927</td><td>0.61</td></tr><tr><td>2009</td><td>8</td><td>556023.1100000001</td><td>3809.5999999999854</td><td>0.69</td></tr><tr><td>2009</td><td>9</td><td>664404.9500000016</td><td>4446.780000000009</td><td>0.67</td></tr><tr><td>2009</td><td>10</td><td>574840.6700000006</td><td>4591.140000000002</td><td>0.8</td></tr><tr><td>2009</td><td>11</td><td>694116.079999999</td><td>4916.220000000009</td><td>0.71</td></tr><tr><td>2009</td><td>12</td><td>651672.9699999986</td><td>5620.120000000007</td><td>0.86</td></tr><tr><td>2010</td><td>1</td><td>746334.0000000005</td><td>6563.250000000012</td><td>0.88</td></tr><tr><td>2010</td><td>2</td><td>891772.3799999997</td><td>6400.570000000034</td><td>0.72</td></tr><tr><td>2010</td><td>3</td><td>758158.0300000014</td><td>6330.530000000021</td><td>0.83</td></tr><tr><td>2010</td><td>4</td><td>1042887.8299999986</td><td>7421.230000000034</td><td>0.71</td></tr><tr><td>2010</td><td>5</td><td>890453.8499999987</td><td>7060.790000000015</td><td>0.79</td></tr><tr><td>2010</td><td>6</td><td>579520.6800000007</td><td>4186.249999999994</td><td>0.72</td></tr><tr><td>2010</td><td>7</td><td>825629.8500000004</td><td>6067.300000000031</td><td>0.73</td></tr><tr><td>2010</td><td>8</td><td>951168.2799999997</td><td>6167.4300000000285</td><td>0.65</td></tr><tr><td>2010</td><td>9</td><td>866221.4700000036</td><td>6201.280000000061</td><td>0.72</td></tr><tr><td>2010</td><td>10</td><td>553491.3299999998</td><td>4408.600000000001</td><td>0.8</td></tr><tr><td>2010</td><td>11</td><td>880343.2299999999</td><td>7594.450000000036</td><td>0.86</td></tr><tr><td>2010</td><td>12</td><td>890417.6899999998</td><td>6374.790000000053</td><td>0.72</td></tr><tr><td>2011</td><td>1</td><td>774884.750000001</td><td>5815.210000000016</td><td>0.75</td></tr><tr><td>2011</td><td>2</td><td>699448.2599999998</td><td>8114.270000000059</td><td>1.16</td></tr><tr><td>2011</td><td>3</td><td>597377.1599999999</td><td>5143.810000000018</td><td>0.86</td></tr><tr><td>2011</td><td>4</td><td>384248.02000000054</td><td>3510.939999999995</td><td>0.91</td></tr><tr><td>2011</td><td>5</td><td>664603.5400000004</td><td>5718.78000000001</td><td>0.86</td></tr><tr><td>2011</td><td>6</td><td>448004.65000000066</td><td>4453.709999999998</td><td>0.99</td></tr><tr><td>2011</td><td>7</td><td>543712.2400000005</td><td>3656.9299999999944</td><td>0.67</td></tr><tr><td>2011</td><td>8</td><td>541383.4900000005</td><td>4109.499999999996</td><td>0.76</td></tr><tr><td>2011</td><td>9</td><td>809930.44</td><td>4260.709999999992</td><td>0.53</td></tr><tr><td>2011</td><td>10</td><td>504107.40000000043</td><td>3159.3499999999976</td><td>0.63</td></tr><tr><td>2011</td><td>11</td><td>361329.09999999934</td><td>3101.3599999999965</td><td>0.86</td></tr><tr><td>2011</td><td>12</td><td>456694.66999999946</td><td>2723.4600000000005</td><td>0.6</td></tr><tr><td>2012</td><td>1</td><td>343630.7700000001</td><td>2462.9599999999955</td><td>0.72</td></tr><tr><td>2012</td><td>2</td><td>174412.75999999966</td><td>1726.289999999997</td><td>0.99</td></tr><tr><td>2012</td><td>3</td><td>444171.00999999867</td><td>3884.4000000000096</td><td>0.87</td></tr></tbody></table></div>"
      ]
     },
     "metadata": {
      "application/vnd.databricks.v1+output": {
       "addedWidgets": {},
       "aggData": [],
       "aggError": "",
       "aggOverflow": false,
       "aggSchema": [],
       "aggSeriesLimitReached": false,
       "aggType": "",
       "arguments": {},
       "columnCustomDisplayInfos": {},
       "data": [
        [
         2007,
         4,
         8674.75,
         58.15000000000001,
         0.67
        ],
        [
         2007,
         5,
         4185.209999999999,
         60.1,
         1.44
        ],
        [
         2007,
         6,
         7443.290000000002,
         47.730000000000004,
         0.64
        ],
        [
         2007,
         7,
         13429.189999999997,
         138.0399999999999,
         1.03
        ],
        [
         2007,
         8,
         40404.01000000004,
         332.19000000000005,
         0.82
        ],
        [
         2007,
         9,
         1644.2,
         10.5,
         0.64
        ],
        [
         2007,
         10,
         20556.789999999997,
         180.73000000000005,
         0.88
        ],
        [
         2007,
         11,
         89005.39,
         617.0499999999993,
         0.69
        ],
        [
         2007,
         12,
         111227.24999999984,
         866.5699999999995,
         0.78
        ],
        [
         2008,
         1,
         110931.95999999999,
         859.6300000000002,
         0.77
        ],
        [
         2008,
         2,
         153913.62000000002,
         1162.439999999999,
         0.76
        ],
        [
         2008,
         3,
         196878.14,
         1299.7599999999982,
         0.66
        ],
        [
         2008,
         4,
         271793.4800000004,
         1776.1099999999972,
         0.65
        ],
        [
         2008,
         5,
         264215.24999999936,
         1876.7399999999925,
         0.71
        ],
        [
         2008,
         6,
         215410.61999999968,
         1646.6999999999996,
         0.76
        ],
        [
         2008,
         7,
         190460.98000000004,
         1292.7699999999995,
         0.68
        ],
        [
         2008,
         8,
         178531.0799999999,
         1138.1800000000003,
         0.64
        ],
        [
         2008,
         9,
         279742.8200000004,
         1741.3099999999968,
         0.62
        ],
        [
         2008,
         10,
         163653.2500000002,
         1156.1399999999992,
         0.71
        ],
        [
         2008,
         11,
         216549.22000000026,
         1616.2300000000014,
         0.75
        ],
        [
         2008,
         12,
         471728.32000000024,
         2848.4000000000015,
         0.6
        ],
        [
         2009,
         1,
         346354.38999999984,
         2221.269999999998,
         0.64
        ],
        [
         2009,
         2,
         263586.0999999998,
         1925.6399999999996,
         0.73
        ],
        [
         2009,
         3,
         615274.5000000007,
         3212.950000000001,
         0.52
        ],
        [
         2009,
         4,
         669083.0799999996,
         3917.3299999999967,
         0.59
        ],
        [
         2009,
         5,
         438331.2499999999,
         3018.319999999994,
         0.69
        ],
        [
         2009,
         6,
         612045.7200000003,
         4357.609999999996,
         0.71
        ],
        [
         2009,
         7,
         610036.6799999997,
         3694.5399999999927,
         0.61
        ],
        [
         2009,
         8,
         556023.1100000001,
         3809.5999999999854,
         0.69
        ],
        [
         2009,
         9,
         664404.9500000016,
         4446.780000000009,
         0.67
        ],
        [
         2009,
         10,
         574840.6700000006,
         4591.140000000002,
         0.8
        ],
        [
         2009,
         11,
         694116.079999999,
         4916.220000000009,
         0.71
        ],
        [
         2009,
         12,
         651672.9699999986,
         5620.120000000007,
         0.86
        ],
        [
         2010,
         1,
         746334.0000000005,
         6563.250000000012,
         0.88
        ],
        [
         2010,
         2,
         891772.3799999997,
         6400.570000000034,
         0.72
        ],
        [
         2010,
         3,
         758158.0300000014,
         6330.530000000021,
         0.83
        ],
        [
         2010,
         4,
         1042887.8299999986,
         7421.230000000034,
         0.71
        ],
        [
         2010,
         5,
         890453.8499999987,
         7060.790000000015,
         0.79
        ],
        [
         2010,
         6,
         579520.6800000007,
         4186.249999999994,
         0.72
        ],
        [
         2010,
         7,
         825629.8500000004,
         6067.300000000031,
         0.73
        ],
        [
         2010,
         8,
         951168.2799999997,
         6167.4300000000285,
         0.65
        ],
        [
         2010,
         9,
         866221.4700000036,
         6201.280000000061,
         0.72
        ],
        [
         2010,
         10,
         553491.3299999998,
         4408.600000000001,
         0.8
        ],
        [
         2010,
         11,
         880343.2299999999,
         7594.450000000036,
         0.86
        ],
        [
         2010,
         12,
         890417.6899999998,
         6374.790000000053,
         0.72
        ],
        [
         2011,
         1,
         774884.750000001,
         5815.210000000016,
         0.75
        ],
        [
         2011,
         2,
         699448.2599999998,
         8114.270000000059,
         1.16
        ],
        [
         2011,
         3,
         597377.1599999999,
         5143.810000000018,
         0.86
        ],
        [
         2011,
         4,
         384248.02000000054,
         3510.939999999995,
         0.91
        ],
        [
         2011,
         5,
         664603.5400000004,
         5718.78000000001,
         0.86
        ],
        [
         2011,
         6,
         448004.65000000066,
         4453.709999999998,
         0.99
        ],
        [
         2011,
         7,
         543712.2400000005,
         3656.9299999999944,
         0.67
        ],
        [
         2011,
         8,
         541383.4900000005,
         4109.499999999996,
         0.76
        ],
        [
         2011,
         9,
         809930.44,
         4260.709999999992,
         0.53
        ],
        [
         2011,
         10,
         504107.40000000043,
         3159.3499999999976,
         0.63
        ],
        [
         2011,
         11,
         361329.09999999934,
         3101.3599999999965,
         0.86
        ],
        [
         2011,
         12,
         456694.66999999946,
         2723.4600000000005,
         0.6
        ],
        [
         2012,
         1,
         343630.7700000001,
         2462.9599999999955,
         0.72
        ],
        [
         2012,
         2,
         174412.75999999966,
         1726.289999999997,
         0.99
        ],
        [
         2012,
         3,
         444171.00999999867,
         3884.4000000000096,
         0.87
        ]
       ],
       "datasetInfos": [],
       "dbfsResultPath": null,
       "isJsonSchema": true,
       "metadata": {},
       "overflow": false,
       "plotOptions": {
        "customPlotOptions": {},
        "displayType": "table",
        "pivotAggregation": null,
        "pivotColumns": null,
        "xColumns": null,
        "yColumns": null
       },
       "removedWidgets": [],
       "schema": [
        {
         "metadata": "{}",
         "name": "Year",
         "type": "\"integer\""
        },
        {
         "metadata": "{}",
         "name": "Month",
         "type": "\"integer\""
        },
        {
         "metadata": "{}",
         "name": "TotalSales",
         "type": "\"double\""
        },
        {
         "metadata": "{}",
         "name": "TotalProfit",
         "type": "\"double\""
        },
        {
         "metadata": "{}",
         "name": "Margin_Percentage",
         "type": "\"double\""
        }
       ],
       "type": "table"
      }
     },
     "output_type": "display_data"
    }
   ],
   "source": [
    "%sql\n",
    "SELECT \n",
    "    d.Year, \n",
    "    d.Month, \n",
    "    SUM(f.TotalPrice) AS TotalSales, \n",
    "    SUM(f.Profit) AS TotalProfit, \n",
    "    ROUND(SUM(f.Profit) / SUM(f.TotalPrice) * 100, 2) AS Margin_Percentage\n",
    "FROM gold.factfinaltable f\n",
    "JOIN gold.dim_orderdate d ON f.OrderDateKey = d.DateKey\n",
    "GROUP BY d.Year, d.Month\n",
    "ORDER BY d.Year, d.Month;\n"
   ]
  },
  {
   "cell_type": "markdown",
   "metadata": {
    "application/vnd.databricks.v1+cell": {
     "cellMetadata": {},
     "inputWidgets": {},
     "nuid": "c0a4c0d9-d606-4c08-9017-74d3470cdb81",
     "showTitle": false,
     "tableResultSettingsMap": {},
     "title": ""
    }
   },
   "source": [
    "### 3. Sales Analysis by Region & Year"
   ]
  },
  {
   "cell_type": "code",
   "execution_count": 0,
   "metadata": {
    "application/vnd.databricks.v1+cell": {
     "cellMetadata": {
      "byteLimit": 2048000,
      "implicitDf": true,
      "rowLimit": 10000
     },
     "inputWidgets": {},
     "nuid": "ee68b0f9-cfc7-4e65-9ec7-84a5c7c2792e",
     "showTitle": false,
     "tableResultSettingsMap": {},
     "title": ""
    }
   },
   "outputs": [
    {
     "output_type": "display_data",
     "data": {
      "text/html": [
       "<style scoped>\n",
       "  .table-result-container {\n",
       "    max-height: 300px;\n",
       "    overflow: auto;\n",
       "  }\n",
       "  table, th, td {\n",
       "    border: 1px solid black;\n",
       "    border-collapse: collapse;\n",
       "  }\n",
       "  th, td {\n",
       "    padding: 5px;\n",
       "  }\n",
       "  th {\n",
       "    text-align: left;\n",
       "  }\n",
       "</style><div class='table-result-container'><table class='table-result'><thead style='background-color: white'><tr><th>Year</th><th>Division</th><th>TotalSales</th></tr></thead><tbody><tr><td>2007</td><td>Europe</td><td>146257.03999999995</td></tr><tr><td>2007</td><td>North America</td><td>93566.61</td></tr><tr><td>2007</td><td>South America</td><td>56746.42999999999</td></tr><tr><td>2008</td><td>Europe</td><td>1800640.4100000018</td></tr><tr><td>2008</td><td>North America</td><td>736114.7300000009</td></tr><tr><td>2008</td><td>South America</td><td>177053.6000000001</td></tr><tr><td>2009</td><td>Europe</td><td>4595243.0200000005</td></tr><tr><td>2009</td><td>North America</td><td>1500120.709999994</td></tr><tr><td>2009</td><td>South America</td><td>600405.769999998</td></tr><tr><td>2010</td><td>Europe</td><td>6879776.910000002</td></tr><tr><td>2010</td><td>North America</td><td>1819929.950000003</td></tr><tr><td>2010</td><td>South America</td><td>1176691.7599999988</td></tr><tr><td>2011</td><td>Europe</td><td>4794377.949999984</td></tr><tr><td>2011</td><td>North America</td><td>1117462.7599999995</td></tr><tr><td>2011</td><td>South America</td><td>873883.0100000016</td></tr><tr><td>2012</td><td>Europe</td><td>729677.9800000007</td></tr><tr><td>2012</td><td>North America</td><td>172255.07000000004</td></tr><tr><td>2012</td><td>South America</td><td>60281.49000000002</td></tr></tbody></table></div>"
      ]
     },
     "metadata": {
      "application/vnd.databricks.v1+output": {
       "addedWidgets": {},
       "aggData": [],
       "aggError": "",
       "aggOverflow": false,
       "aggSchema": [],
       "aggSeriesLimitReached": false,
       "aggType": "",
       "arguments": {},
       "columnCustomDisplayInfos": {},
       "data": [
        [
         2007,
         "Europe",
         146257.03999999995
        ],
        [
         2007,
         "North America",
         93566.61
        ],
        [
         2007,
         "South America",
         56746.42999999999
        ],
        [
         2008,
         "Europe",
         1800640.4100000018
        ],
        [
         2008,
         "North America",
         736114.7300000009
        ],
        [
         2008,
         "South America",
         177053.6000000001
        ],
        [
         2009,
         "Europe",
         4595243.0200000005
        ],
        [
         2009,
         "North America",
         1500120.709999994
        ],
        [
         2009,
         "South America",
         600405.769999998
        ],
        [
         2010,
         "Europe",
         6879776.910000002
        ],
        [
         2010,
         "North America",
         1819929.950000003
        ],
        [
         2010,
         "South America",
         1176691.7599999988
        ],
        [
         2011,
         "Europe",
         4794377.949999984
        ],
        [
         2011,
         "North America",
         1117462.7599999995
        ],
        [
         2011,
         "South America",
         873883.0100000016
        ],
        [
         2012,
         "Europe",
         729677.9800000007
        ],
        [
         2012,
         "North America",
         172255.07000000004
        ],
        [
         2012,
         "South America",
         60281.49000000002
        ]
       ],
       "datasetInfos": [],
       "dbfsResultPath": null,
       "isJsonSchema": true,
       "metadata": {},
       "overflow": false,
       "plotOptions": {
        "customPlotOptions": {},
        "displayType": "table",
        "pivotAggregation": null,
        "pivotColumns": null,
        "xColumns": null,
        "yColumns": null
       },
       "removedWidgets": [],
       "schema": [
        {
         "metadata": "{}",
         "name": "Year",
         "type": "\"integer\""
        },
        {
         "metadata": "{}",
         "name": "Division",
         "type": "\"string\""
        },
        {
         "metadata": "{}",
         "name": "TotalSales",
         "type": "\"double\""
        }
       ],
       "type": "table"
      }
     },
     "output_type": "display_data"
    }
   ],
   "source": [
    "%sql\n",
    "SELECT \n",
    "    d1.Year, \n",
    "    c.Division,\n",
    "    SUM(f.TotalPrice) AS TotalSales\n",
    "FROM gold.factfinaltable f\n",
    "JOIN gold.dim_orderdate d1 ON f.OrderDateKey = d1.DateKey\n",
    "JOIN gold.dim_customers c ON f.CustomerID = c.CustomerID\n",
    "GROUP BY d1.Year, c.Division\n",
    "ORDER BY d1.Year, TotalSales DESC;"
   ]
  },
  {
   "cell_type": "markdown",
   "metadata": {
    "application/vnd.databricks.v1+cell": {
     "cellMetadata": {},
     "inputWidgets": {},
     "nuid": "b17dcc24-8cc2-4e51-a16e-11d193c76627",
     "showTitle": false,
     "tableResultSettingsMap": {},
     "title": ""
    }
   },
   "source": [
    "### 4. Customer Growth Over Time"
   ]
  },
  {
   "cell_type": "code",
   "execution_count": 0,
   "metadata": {
    "application/vnd.databricks.v1+cell": {
     "cellMetadata": {
      "byteLimit": 2048000,
      "implicitDf": true,
      "rowLimit": 10000
     },
     "inputWidgets": {},
     "nuid": "659c0600-a2df-4e2f-bb2f-4879aeda7f44",
     "showTitle": false,
     "tableResultSettingsMap": {},
     "title": ""
    }
   },
   "outputs": [
    {
     "output_type": "display_data",
     "data": {
      "text/html": [
       "<style scoped>\n",
       "  .table-result-container {\n",
       "    max-height: 300px;\n",
       "    overflow: auto;\n",
       "  }\n",
       "  table, th, td {\n",
       "    border: 1px solid black;\n",
       "    border-collapse: collapse;\n",
       "  }\n",
       "  th, td {\n",
       "    padding: 5px;\n",
       "  }\n",
       "  th {\n",
       "    text-align: left;\n",
       "  }\n",
       "</style><div class='table-result-container'><table class='table-result'><thead style='background-color: white'><tr><th>Year</th><th>CustomerCount</th><th>PreviousYearCustomers</th><th>YoY_Customer_Growth</th></tr></thead><tbody><tr><td>2007</td><td>27</td><td>null</td><td>null</td></tr><tr><td>2008</td><td>59</td><td>27</td><td>118.52</td></tr><tr><td>2009</td><td>82</td><td>59</td><td>38.98</td></tr><tr><td>2010</td><td>89</td><td>82</td><td>8.54</td></tr><tr><td>2011</td><td>83</td><td>89</td><td>-6.74</td></tr><tr><td>2012</td><td>51</td><td>83</td><td>-38.55</td></tr></tbody></table></div>"
      ]
     },
     "metadata": {
      "application/vnd.databricks.v1+output": {
       "addedWidgets": {},
       "aggData": [],
       "aggError": "",
       "aggOverflow": false,
       "aggSchema": [],
       "aggSeriesLimitReached": false,
       "aggType": "",
       "arguments": {},
       "columnCustomDisplayInfos": {},
       "data": [
        [
         2007,
         27,
         null,
         null
        ],
        [
         2008,
         59,
         27,
         118.52
        ],
        [
         2009,
         82,
         59,
         38.98
        ],
        [
         2010,
         89,
         82,
         8.54
        ],
        [
         2011,
         83,
         89,
         -6.74
        ],
        [
         2012,
         51,
         83,
         -38.55
        ]
       ],
       "datasetInfos": [],
       "dbfsResultPath": null,
       "isJsonSchema": true,
       "metadata": {},
       "overflow": false,
       "plotOptions": {
        "customPlotOptions": {},
        "displayType": "table",
        "pivotAggregation": null,
        "pivotColumns": null,
        "xColumns": null,
        "yColumns": null
       },
       "removedWidgets": [],
       "schema": [
        {
         "metadata": "{}",
         "name": "Year",
         "type": "\"integer\""
        },
        {
         "metadata": "{}",
         "name": "CustomerCount",
         "type": "\"long\""
        },
        {
         "metadata": "{}",
         "name": "PreviousYearCustomers",
         "type": "\"long\""
        },
        {
         "metadata": "{}",
         "name": "YoY_Customer_Growth",
         "type": "\"double\""
        }
       ],
       "type": "table"
      }
     },
     "output_type": "display_data"
    }
   ],
   "source": [
    "%sql\n",
    "WITH CustomerCounts AS (\n",
    "    SELECT \n",
    "        d1.Year, \n",
    "        COUNT(DISTINCT f.CustomerID) AS CustomerCount\n",
    "    FROM gold.factfinaltable f\n",
    "    JOIN gold.dim_orderdate d1 ON f.OrderDateKey = d1.DateKey\n",
    "    GROUP BY d1.Year\n",
    ")\n",
    "SELECT \n",
    "    Year, \n",
    "    CustomerCount, \n",
    "    LAG(CustomerCount) OVER (ORDER BY Year) AS PreviousYearCustomers, \n",
    "    ROUND(\n",
    "        (CustomerCount - LAG(CustomerCount) OVER (ORDER BY Year)) / \n",
    "        LAG(CustomerCount) OVER (ORDER BY Year) * 100, 2\n",
    "    ) AS YoY_Customer_Growth\n",
    "FROM CustomerCounts\n",
    "ORDER BY Year;\n"
   ]
  },
  {
   "cell_type": "markdown",
   "metadata": {
    "application/vnd.databricks.v1+cell": {
     "cellMetadata": {},
     "inputWidgets": {},
     "nuid": "c9546b63-e591-4bff-a9e6-1e07df4cb742",
     "showTitle": false,
     "tableResultSettingsMap": {},
     "title": ""
    }
   },
   "source": [
    "### 5. Average Sales per Transaction & per Customer"
   ]
  },
  {
   "cell_type": "code",
   "execution_count": 0,
   "metadata": {
    "application/vnd.databricks.v1+cell": {
     "cellMetadata": {
      "byteLimit": 2048000,
      "implicitDf": true,
      "rowLimit": 10000
     },
     "inputWidgets": {},
     "nuid": "c57b43c0-12b0-4199-8683-e13c79b175e7",
     "showTitle": false,
     "tableResultSettingsMap": {},
     "title": ""
    }
   },
   "outputs": [
    {
     "output_type": "display_data",
     "data": {
      "text/html": [
       "<style scoped>\n",
       "  .table-result-container {\n",
       "    max-height: 300px;\n",
       "    overflow: auto;\n",
       "  }\n",
       "  table, th, td {\n",
       "    border: 1px solid black;\n",
       "    border-collapse: collapse;\n",
       "  }\n",
       "  th, td {\n",
       "    padding: 5px;\n",
       "  }\n",
       "  th {\n",
       "    text-align: left;\n",
       "  }\n",
       "</style><div class='table-result-container'><table class='table-result'><thead style='background-color: white'><tr><th>Year</th><th>TotalTransactions</th><th>UniqueCustomers</th><th>AvgSalesPerTransaction</th><th>AvgSalesPerCustomer</th></tr></thead><tbody><tr><td>2007</td><td>54</td><td>27</td><td>5492.0385185185105</td><td>10984.077037037021</td></tr><tr><td>2008</td><td>419</td><td>59</td><td>6476.870501193288</td><td>45996.758305084535</td></tr><tr><td>2009</td><td>1008</td><td>82</td><td>6642.628472222176</td><td>81655.72560975554</td></tr><tr><td>2010</td><td>1565</td><td>89</td><td>6310.797840255601</td><td>110970.77101123614</td></tr><tr><td>2011</td><td>1079</td><td>83</td><td>6288.900574606077</td><td>81755.707469879</td></tr><tr><td>2012</td><td>141</td><td>51</td><td>6824.2165957446505</td><td>18866.9517647058</td></tr></tbody></table></div>"
      ]
     },
     "metadata": {
      "application/vnd.databricks.v1+output": {
       "addedWidgets": {},
       "aggData": [],
       "aggError": "",
       "aggOverflow": false,
       "aggSchema": [],
       "aggSeriesLimitReached": false,
       "aggType": "",
       "arguments": {},
       "columnCustomDisplayInfos": {},
       "data": [
        [
         2007,
         54,
         27,
         5492.0385185185105,
         10984.077037037021
        ],
        [
         2008,
         419,
         59,
         6476.870501193288,
         45996.758305084535
        ],
        [
         2009,
         1008,
         82,
         6642.628472222176,
         81655.72560975554
        ],
        [
         2010,
         1565,
         89,
         6310.797840255601,
         110970.77101123614
        ],
        [
         2011,
         1079,
         83,
         6288.900574606077,
         81755.707469879
        ],
        [
         2012,
         141,
         51,
         6824.2165957446505,
         18866.9517647058
        ]
       ],
       "datasetInfos": [],
       "dbfsResultPath": null,
       "isJsonSchema": true,
       "metadata": {},
       "overflow": false,
       "plotOptions": {
        "customPlotOptions": {},
        "displayType": "table",
        "pivotAggregation": null,
        "pivotColumns": null,
        "xColumns": null,
        "yColumns": null
       },
       "removedWidgets": [],
       "schema": [
        {
         "metadata": "{}",
         "name": "Year",
         "type": "\"integer\""
        },
        {
         "metadata": "{}",
         "name": "TotalTransactions",
         "type": "\"long\""
        },
        {
         "metadata": "{}",
         "name": "UniqueCustomers",
         "type": "\"long\""
        },
        {
         "metadata": "{}",
         "name": "AvgSalesPerTransaction",
         "type": "\"double\""
        },
        {
         "metadata": "{}",
         "name": "AvgSalesPerCustomer",
         "type": "\"double\""
        }
       ],
       "type": "table"
      }
     },
     "output_type": "display_data"
    }
   ],
   "source": [
    "%sql\n",
    "SELECT \n",
    "    d1.Year, \n",
    "    COUNT(DISTINCT f.OrderID) AS TotalTransactions, \n",
    "    COUNT(DISTINCT f.CustomerID) AS UniqueCustomers, \n",
    "    SUM(f.TotalPrice) / COUNT(DISTINCT f.OrderID) AS AvgSalesPerTransaction, \n",
    "    SUM(f.TotalPrice) / COUNT(DISTINCT f.CustomerID) AS AvgSalesPerCustomer\n",
    "FROM gold.factfinaltable f\n",
    "JOIN gold.dim_orderdate d1 ON f.OrderDateKey = d1.DateKey\n",
    "GROUP BY d1.Year\n",
    "ORDER BY d1.Year;\n"
   ]
  },
  {
   "cell_type": "markdown",
   "metadata": {
    "application/vnd.databricks.v1+cell": {
     "cellMetadata": {},
     "inputWidgets": {},
     "nuid": "5a257702-d7d3-4062-940c-c51001481cc7",
     "showTitle": false,
     "tableResultSettingsMap": {},
     "title": ""
    }
   },
   "source": [
    "##### Additional queries: 6. Top selling products"
   ]
  },
  {
   "cell_type": "code",
   "execution_count": 0,
   "metadata": {
    "application/vnd.databricks.v1+cell": {
     "cellMetadata": {
      "byteLimit": 2048000,
      "implicitDf": true,
      "rowLimit": 10000
     },
     "inputWidgets": {},
     "nuid": "c9f03ffa-9e6b-4a45-8d46-d3cd344cb075",
     "showTitle": false,
     "tableResultSettingsMap": {},
     "title": ""
    }
   },
   "outputs": [
    {
     "output_type": "display_data",
     "data": {
      "text/html": [
       "<style scoped>\n",
       "  .table-result-container {\n",
       "    max-height: 300px;\n",
       "    overflow: auto;\n",
       "  }\n",
       "  table, th, td {\n",
       "    border: 1px solid black;\n",
       "    border-collapse: collapse;\n",
       "  }\n",
       "  th, td {\n",
       "    padding: 5px;\n",
       "  }\n",
       "  th {\n",
       "    text-align: left;\n",
       "  }\n",
       "</style><div class='table-result-container'><table class='table-result'><thead style='background-color: white'><tr><th>ProductName</th><th>TotalRevenue</th><th>UnitsSold</th></tr></thead><tbody><tr><td>Halter Dress</td><td>6178174.849999984</td><td>16146</td></tr><tr><td>Summit Hiking Boots</td><td>1531156.260000001</td><td>15943</td></tr><tr><td>Davenport Shoes</td><td>1486134.659999999</td><td>12377</td></tr><tr><td>Slip-on Shoes</td><td>858984.7300000006</td><td>22321</td></tr><tr><td>Jack Flash Dress</td><td>802738.0299999989</td><td>12841</td></tr><tr><td>Le Baby Dress</td><td>729192.8000000005</td><td>9280</td></tr><tr><td>Okkaba Skin Jackets</td><td>685214.1000000004</td><td>9287</td></tr><tr><td>Terence Top</td><td>627564.1600000017</td><td>10922</td></tr><tr><td>Runner Shoes</td><td>592068.4900000003</td><td>14822</td></tr><tr><td>Winter Boots</td><td>577530.72</td><td>7178</td></tr></tbody></table></div>"
      ]
     },
     "metadata": {
      "application/vnd.databricks.v1+output": {
       "addedWidgets": {},
       "aggData": [],
       "aggError": "",
       "aggOverflow": false,
       "aggSchema": [],
       "aggSeriesLimitReached": false,
       "aggType": "",
       "arguments": {},
       "columnCustomDisplayInfos": {},
       "data": [
        [
         "Halter Dress",
         6178174.849999984,
         16146
        ],
        [
         "Summit Hiking Boots",
         1531156.260000001,
         15943
        ],
        [
         "Davenport Shoes",
         1486134.659999999,
         12377
        ],
        [
         "Slip-on Shoes",
         858984.7300000006,
         22321
        ],
        [
         "Jack Flash Dress",
         802738.0299999989,
         12841
        ],
        [
         "Le Baby Dress",
         729192.8000000005,
         9280
        ],
        [
         "Okkaba Skin Jackets",
         685214.1000000004,
         9287
        ],
        [
         "Terence Top",
         627564.1600000017,
         10922
        ],
        [
         "Runner Shoes",
         592068.4900000003,
         14822
        ],
        [
         "Winter Boots",
         577530.72,
         7178
        ]
       ],
       "datasetInfos": [],
       "dbfsResultPath": null,
       "isJsonSchema": true,
       "metadata": {},
       "overflow": false,
       "plotOptions": {
        "customPlotOptions": {},
        "displayType": "table",
        "pivotAggregation": null,
        "pivotColumns": null,
        "xColumns": null,
        "yColumns": null
       },
       "removedWidgets": [],
       "schema": [
        {
         "metadata": "{}",
         "name": "ProductName",
         "type": "\"string\""
        },
        {
         "metadata": "{}",
         "name": "TotalRevenue",
         "type": "\"double\""
        },
        {
         "metadata": "{}",
         "name": "UnitsSold",
         "type": "\"long\""
        }
       ],
       "type": "table"
      }
     },
     "output_type": "display_data"
    }
   ],
   "source": [
    "%sql\n",
    "SELECT \n",
    "    p.ProductName, \n",
    "    SUM(f.TotalPrice) AS TotalRevenue, \n",
    "    SUM(f.Quantity) AS UnitsSold\n",
    "FROM gold.factfinaltable f\n",
    "JOIN gold.dim_products p ON f.ProductID = p.ProductID\n",
    "GROUP BY p.ProductName\n",
    "ORDER BY TotalRevenue DESC\n",
    "LIMIT 10;\n"
   ]
  },
  {
   "cell_type": "markdown",
   "metadata": {
    "application/vnd.databricks.v1+cell": {
     "cellMetadata": {},
     "inputWidgets": {},
     "nuid": "415b9e7d-7796-448b-b9e9-0c3190e21335",
     "showTitle": false,
     "tableResultSettingsMap": {},
     "title": ""
    }
   },
   "source": [
    "##### Additional queries: 7. Average Shipment Time by Shipper"
   ]
  },
  {
   "cell_type": "code",
   "execution_count": 0,
   "metadata": {
    "application/vnd.databricks.v1+cell": {
     "cellMetadata": {
      "byteLimit": 2048000,
      "implicitDf": true,
      "rowLimit": 10000
     },
     "inputWidgets": {},
     "nuid": "5f3719f0-c751-417b-89b3-a92696f20df7",
     "showTitle": false,
     "tableResultSettingsMap": {},
     "title": ""
    }
   },
   "outputs": [
    {
     "output_type": "display_data",
     "data": {
      "text/html": [
       "<style scoped>\n",
       "  .table-result-container {\n",
       "    max-height: 300px;\n",
       "    overflow: auto;\n",
       "  }\n",
       "  table, th, td {\n",
       "    border: 1px solid black;\n",
       "    border-collapse: collapse;\n",
       "  }\n",
       "  th, td {\n",
       "    padding: 5px;\n",
       "  }\n",
       "  th {\n",
       "    text-align: left;\n",
       "  }\n",
       "</style><div class='table-result-container'><table class='table-result'><thead style='background-color: white'><tr><th>CompanyName</th><th>AvgShipmentTime</th></tr></thead><tbody><tr><td>World Wide Transports</td><td>19.31622117147544</td></tr><tr><td>Quik Shipping</td><td>19.425849446217384</td></tr><tr><td>SafeAndFast</td><td>19.7998055015282</td></tr></tbody></table></div>"
      ]
     },
     "metadata": {
      "application/vnd.databricks.v1+output": {
       "addedWidgets": {},
       "aggData": [],
       "aggError": "",
       "aggOverflow": false,
       "aggSchema": [],
       "aggSeriesLimitReached": false,
       "aggType": "",
       "arguments": {},
       "columnCustomDisplayInfos": {},
       "data": [
        [
         "World Wide Transports",
         19.31622117147544
        ],
        [
         "Quik Shipping",
         19.425849446217384
        ],
        [
         "SafeAndFast",
         19.7998055015282
        ]
       ],
       "datasetInfos": [],
       "dbfsResultPath": null,
       "isJsonSchema": true,
       "metadata": {},
       "overflow": false,
       "plotOptions": {
        "customPlotOptions": {},
        "displayType": "table",
        "pivotAggregation": null,
        "pivotColumns": null,
        "xColumns": null,
        "yColumns": null
       },
       "removedWidgets": [],
       "schema": [
        {
         "metadata": "{}",
         "name": "CompanyName",
         "type": "\"string\""
        },
        {
         "metadata": "{}",
         "name": "AvgShipmentTime",
         "type": "\"double\""
        }
       ],
       "type": "table"
      }
     },
     "output_type": "display_data"
    }
   ],
   "source": [
    "%sql\n",
    "SELECT \n",
    "    sh.CompanyName, \n",
    "    AVG(DATEDIFF(d2.Date, d1.Date)) AS AvgShipmentTime\n",
    "FROM gold.factfinaltable f\n",
    "JOIN gold.dim_orderdate d1 ON f.OrderDateKey = d1.DateKey\n",
    "JOIN gold.dim_shipmentdate d2 ON f.ShipmentDateKey = d2.DateKey\n",
    "JOIN gold.dim_shippers sh ON f.ShipperID = sh.ShipperID\n",
    "GROUP BY sh.CompanyName\n",
    "ORDER BY AvgShipmentTime;\n"
   ]
  },
  {
   "cell_type": "markdown",
   "metadata": {
    "application/vnd.databricks.v1+cell": {
     "cellMetadata": {},
     "inputWidgets": {},
     "nuid": "0d7fe2fd-a89f-4d60-8361-f0c2537f8477",
     "showTitle": false,
     "tableResultSettingsMap": {},
     "title": ""
    }
   },
   "source": [
    "##### Additional queries: 8. Total Sales per Year"
   ]
  },
  {
   "cell_type": "code",
   "execution_count": 0,
   "metadata": {
    "application/vnd.databricks.v1+cell": {
     "cellMetadata": {
      "byteLimit": 2048000,
      "implicitDf": true,
      "rowLimit": 10000
     },
     "inputWidgets": {},
     "nuid": "6b05bea4-7b67-4f05-88b2-63d2b797efda",
     "showTitle": false,
     "tableResultSettingsMap": {},
     "title": ""
    }
   },
   "outputs": [
    {
     "output_type": "display_data",
     "data": {
      "text/html": [
       "<style scoped>\n",
       "  .table-result-container {\n",
       "    max-height: 300px;\n",
       "    overflow: auto;\n",
       "  }\n",
       "  table, th, td {\n",
       "    border: 1px solid black;\n",
       "    border-collapse: collapse;\n",
       "  }\n",
       "  th, td {\n",
       "    padding: 5px;\n",
       "  }\n",
       "  th {\n",
       "    text-align: left;\n",
       "  }\n",
       "</style><div class='table-result-container'><table class='table-result'><thead style='background-color: white'><tr><th>Year</th><th>TotalSales</th></tr></thead><tbody><tr><td>2007</td><td>296570.07999999955</td></tr><tr><td>2008</td><td>2713808.7399999877</td></tr><tr><td>2009</td><td>6695769.499999953</td></tr><tr><td>2010</td><td>9876398.620000016</td></tr><tr><td>2011</td><td>6785723.719999957</td></tr><tr><td>2012</td><td>962214.5399999957</td></tr></tbody></table></div>"
      ]
     },
     "metadata": {
      "application/vnd.databricks.v1+output": {
       "addedWidgets": {},
       "aggData": [],
       "aggError": "",
       "aggOverflow": false,
       "aggSchema": [],
       "aggSeriesLimitReached": false,
       "aggType": "",
       "arguments": {},
       "columnCustomDisplayInfos": {},
       "data": [
        [
         2007,
         296570.07999999955
        ],
        [
         2008,
         2713808.7399999877
        ],
        [
         2009,
         6695769.499999953
        ],
        [
         2010,
         9876398.620000016
        ],
        [
         2011,
         6785723.719999957
        ],
        [
         2012,
         962214.5399999957
        ]
       ],
       "datasetInfos": [],
       "dbfsResultPath": null,
       "isJsonSchema": true,
       "metadata": {},
       "overflow": false,
       "plotOptions": {
        "customPlotOptions": {},
        "displayType": "table",
        "pivotAggregation": null,
        "pivotColumns": null,
        "xColumns": null,
        "yColumns": null
       },
       "removedWidgets": [],
       "schema": [
        {
         "metadata": "{}",
         "name": "Year",
         "type": "\"integer\""
        },
        {
         "metadata": "{}",
         "name": "TotalSales",
         "type": "\"double\""
        }
       ],
       "type": "table"
      }
     },
     "output_type": "display_data"
    }
   ],
   "source": [
    "%sql\n",
    "SELECT \n",
    "    d1.Year, \n",
    "    SUM(f.TotalPrice) AS TotalSales\n",
    "FROM gold.factfinaltable f\n",
    "JOIN gold.dim_orderdate d1 ON f.OrderDateKey = d1.DateKey\n",
    "GROUP BY d1.Year\n",
    "ORDER BY d1.Year;\n"
   ]
  },
  {
   "cell_type": "markdown",
   "metadata": {
    "application/vnd.databricks.v1+cell": {
     "cellMetadata": {},
     "inputWidgets": {},
     "nuid": "19b07138-8bd4-4aef-bada-371ba2dcbef1",
     "showTitle": false,
     "tableResultSettingsMap": {},
     "title": ""
    }
   },
   "source": [
    "##### Additional queries: 9. Month with most orders"
   ]
  },
  {
   "cell_type": "code",
   "execution_count": 0,
   "metadata": {
    "application/vnd.databricks.v1+cell": {
     "cellMetadata": {
      "byteLimit": 2048000,
      "implicitDf": true,
      "rowLimit": 10000
     },
     "inputWidgets": {},
     "nuid": "5a973d8a-3756-43c2-a9a5-7d658aa17f45",
     "showTitle": false,
     "tableResultSettingsMap": {},
     "title": ""
    }
   },
   "outputs": [
    {
     "output_type": "display_data",
     "data": {
      "text/html": [
       "<style scoped>\n",
       "  .table-result-container {\n",
       "    max-height: 300px;\n",
       "    overflow: auto;\n",
       "  }\n",
       "  table, th, td {\n",
       "    border: 1px solid black;\n",
       "    border-collapse: collapse;\n",
       "  }\n",
       "  th, td {\n",
       "    padding: 5px;\n",
       "  }\n",
       "  th {\n",
       "    text-align: left;\n",
       "  }\n",
       "</style><div class='table-result-container'><table class='table-result'><thead style='background-color: white'><tr><th>Year</th><th>Month</th><th>TotalOrders</th></tr></thead><tbody><tr><td>2007</td><td>12</td><td>143</td></tr><tr><td>2008</td><td>5</td><td>414</td></tr><tr><td>2009</td><td>8</td><td>956</td></tr><tr><td>2010</td><td>11</td><td>1405</td></tr><tr><td>2011</td><td>2</td><td>1411</td></tr><tr><td>2012</td><td>3</td><td>825</td></tr></tbody></table></div>"
      ]
     },
     "metadata": {
      "application/vnd.databricks.v1+output": {
       "addedWidgets": {},
       "aggData": [],
       "aggError": "",
       "aggOverflow": false,
       "aggSchema": [],
       "aggSeriesLimitReached": false,
       "aggType": "",
       "arguments": {},
       "columnCustomDisplayInfos": {},
       "data": [
        [
         2007,
         12,
         143
        ],
        [
         2008,
         5,
         414
        ],
        [
         2009,
         8,
         956
        ],
        [
         2010,
         11,
         1405
        ],
        [
         2011,
         2,
         1411
        ],
        [
         2012,
         3,
         825
        ]
       ],
       "datasetInfos": [],
       "dbfsResultPath": null,
       "isJsonSchema": true,
       "metadata": {},
       "overflow": false,
       "plotOptions": {
        "customPlotOptions": {},
        "displayType": "table",
        "pivotAggregation": null,
        "pivotColumns": null,
        "xColumns": null,
        "yColumns": null
       },
       "removedWidgets": [],
       "schema": [
        {
         "metadata": "{}",
         "name": "Year",
         "type": "\"integer\""
        },
        {
         "metadata": "{}",
         "name": "Month",
         "type": "\"integer\""
        },
        {
         "metadata": "{}",
         "name": "TotalOrders",
         "type": "\"long\""
        }
       ],
       "type": "table"
      }
     },
     "output_type": "display_data"
    }
   ],
   "source": [
    "%sql\n",
    "WITH OrdersPerMonth AS (\n",
    "    SELECT \n",
    "        d.Year, \n",
    "        d.Month, \n",
    "        COUNT(f.OrderID) AS TotalOrders\n",
    "    FROM gold.factfinaltable f\n",
    "    JOIN gold.dim_orderdate d ON f.OrderDateKey = d.DateKey\n",
    "    GROUP BY d.Year, d.Month\n",
    "),\n",
    "RankedOrders AS (\n",
    "    SELECT \n",
    "        Year, \n",
    "        Month, \n",
    "        TotalOrders, \n",
    "        RANK() OVER (PARTITION BY Year ORDER BY TotalOrders DESC) AS Rank\n",
    "    FROM OrdersPerMonth\n",
    ")\n",
    "SELECT Year, Month, TotalOrders\n",
    "FROM RankedOrders\n",
    "WHERE Rank = 1\n",
    "ORDER BY Year, Month;\n"
   ]
  }
 ],
 "metadata": {
  "application/vnd.databricks.v1+notebook": {
   "computePreferences": null,
   "dashboards": [],
   "environmentMetadata": {
    "base_environment": "",
    "environment_version": "1"
   },
   "inputWidgetPreferences": null,
   "language": "python",
   "notebookMetadata": {
    "mostRecentlyExecutedCommandWithImplicitDF": {
     "commandId": 152926509057980,
     "dataframes": [
      "_sqldf"
     ]
    },
    "pythonIndentUnit": 4
   },
   "notebookName": "Key KPI Queries",
   "widgets": {}
  }
 },
 "nbformat": 4,
 "nbformat_minor": 0
}